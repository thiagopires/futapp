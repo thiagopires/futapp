{
 "cells": [
  {
   "cell_type": "code",
   "execution_count": 28,
   "metadata": {},
   "outputs": [],
   "source": [
    "from functions import *\n",
    "\n",
    "df = load_histmatches('Betfair')\n",
    "df = df[df['Odd_H_FT'].between(1.7, 2.5)]\n",
    "df['Profit_LayAway'] = np.where(df['Goals_H_FT'] >= df['Goals_A_FT'], df['Odd_DC_1X'] - 1, -1)"
   ]
  },
  {
   "cell_type": "code",
   "execution_count": 29,
   "metadata": {},
   "outputs": [],
   "source": [
    "# Definindo os bins de 0 a 1 com intervalos de 0.11\n",
    "bins = np.arange(0, 1.1, 0.11)\n",
    "labels = [f\"{bins[i]:.2f}-{bins[i+1]:.2f}\" for i in range(len(bins)-1)]\n",
    "\n",
    "# Criando a coluna de faixas\n",
    "df['FX_Probablidade_A'] = pd.cut(df['Probabilidade_A_FT'], bins=bins, labels=labels, include_lowest=True)\n",
    "\n",
    "# Definindo os bins de 0 a 1 com intervalos de 0.5\n",
    "bins = np.arange(0, 1, 0.5)\n",
    "labels = [f\"{bins[i]:.2f}-{bins[i+1]:.2f}\" for i in range(len(bins)-1)]\n",
    "\n",
    "# Criando a coluna de faixas\n",
    "df['FX_CV_HDA'] = pd.cut(df['Probabilidade_A_FT'], bins=bins, labels=labels, include_lowest=True)"
   ]
  },
  {
   "cell_type": "code",
   "execution_count": 34,
   "metadata": {},
   "outputs": [
    {
     "name": "stderr",
     "output_type": "stream",
     "text": [
      "/var/folders/r3/0514h7z96zb_190g6nnzftwr0000gn/T/ipykernel_22935/3460821699.py:2: FutureWarning: The default of observed=False is deprecated and will be changed to True in a future version of pandas. Pass observed=False to retain current behavior or observed=True to adopt the future default and silence this warning.\n",
      "  df\n"
     ]
    }
   ],
   "source": [
    "df0 = (\n",
    "    df\n",
    "    .groupby(['League', 'FX_Probablidade_A', 'FX_CV_HDA'])\n",
    "    .agg(Profit_LayAway_Sum=('Profit_LayAway', 'sum'),  # Soma da coluna Profit_LayAway\n",
    "         Count=('Profit_LayAway', 'count'))  # Contagem de ocorrências\n",
    "    .reset_index()\n",
    ")"
   ]
  },
  {
   "cell_type": "code",
   "execution_count": 38,
   "metadata": {},
   "outputs": [
    {
     "data": {
      "text/html": [
       "<div>\n",
       "<style scoped>\n",
       "    .dataframe tbody tr th:only-of-type {\n",
       "        vertical-align: middle;\n",
       "    }\n",
       "\n",
       "    .dataframe tbody tr th {\n",
       "        vertical-align: top;\n",
       "    }\n",
       "\n",
       "    .dataframe thead th {\n",
       "        text-align: right;\n",
       "    }\n",
       "</style>\n",
       "<table border=\"1\" class=\"dataframe\">\n",
       "  <thead>\n",
       "    <tr style=\"text-align: right;\">\n",
       "      <th></th>\n",
       "      <th>League</th>\n",
       "      <th>FX_Probablidade_A</th>\n",
       "      <th>FX_CV_HDA</th>\n",
       "      <th>Profit_LayAway_Sum</th>\n",
       "      <th>Count</th>\n",
       "    </tr>\n",
       "  </thead>\n",
       "  <tbody>\n",
       "    <tr>\n",
       "      <th>0</th>\n",
       "      <td>ARGENTINA - PRIMERA DIVISIÓN</td>\n",
       "      <td>0.00-0.11</td>\n",
       "      <td>0.00-0.50</td>\n",
       "      <td>0.00</td>\n",
       "      <td>0</td>\n",
       "    </tr>\n",
       "    <tr>\n",
       "      <th>1</th>\n",
       "      <td>ARGENTINA - PRIMERA DIVISIÓN</td>\n",
       "      <td>0.11-0.22</td>\n",
       "      <td>0.00-0.50</td>\n",
       "      <td>1.60</td>\n",
       "      <td>145</td>\n",
       "    </tr>\n",
       "    <tr>\n",
       "      <th>2</th>\n",
       "      <td>ARGENTINA - PRIMERA DIVISIÓN</td>\n",
       "      <td>0.22-0.33</td>\n",
       "      <td>0.00-0.50</td>\n",
       "      <td>-1.03</td>\n",
       "      <td>121</td>\n",
       "    </tr>\n",
       "    <tr>\n",
       "      <th>3</th>\n",
       "      <td>ARGENTINA - PRIMERA DIVISIÓN</td>\n",
       "      <td>0.33-0.44</td>\n",
       "      <td>0.00-0.50</td>\n",
       "      <td>0.35</td>\n",
       "      <td>1</td>\n",
       "    </tr>\n",
       "    <tr>\n",
       "      <th>4</th>\n",
       "      <td>ARGENTINA - PRIMERA DIVISIÓN</td>\n",
       "      <td>0.44-0.55</td>\n",
       "      <td>0.00-0.50</td>\n",
       "      <td>0.00</td>\n",
       "      <td>0</td>\n",
       "    </tr>\n",
       "    <tr>\n",
       "      <th>5</th>\n",
       "      <td>ARGENTINA - PRIMERA DIVISIÓN</td>\n",
       "      <td>0.55-0.66</td>\n",
       "      <td>0.00-0.50</td>\n",
       "      <td>0.00</td>\n",
       "      <td>0</td>\n",
       "    </tr>\n",
       "    <tr>\n",
       "      <th>6</th>\n",
       "      <td>ARGENTINA - PRIMERA DIVISIÓN</td>\n",
       "      <td>0.66-0.77</td>\n",
       "      <td>0.00-0.50</td>\n",
       "      <td>0.00</td>\n",
       "      <td>0</td>\n",
       "    </tr>\n",
       "    <tr>\n",
       "      <th>7</th>\n",
       "      <td>ARGENTINA - PRIMERA DIVISIÓN</td>\n",
       "      <td>0.77-0.88</td>\n",
       "      <td>0.00-0.50</td>\n",
       "      <td>0.00</td>\n",
       "      <td>0</td>\n",
       "    </tr>\n",
       "    <tr>\n",
       "      <th>8</th>\n",
       "      <td>ARGENTINA - PRIMERA DIVISIÓN</td>\n",
       "      <td>0.88-0.99</td>\n",
       "      <td>0.00-0.50</td>\n",
       "      <td>0.00</td>\n",
       "      <td>0</td>\n",
       "    </tr>\n",
       "  </tbody>\n",
       "</table>\n",
       "</div>"
      ],
      "text/plain": [
       "                         League FX_Probablidade_A  FX_CV_HDA  \\\n",
       "0  ARGENTINA - PRIMERA DIVISIÓN         0.00-0.11  0.00-0.50   \n",
       "1  ARGENTINA - PRIMERA DIVISIÓN         0.11-0.22  0.00-0.50   \n",
       "2  ARGENTINA - PRIMERA DIVISIÓN         0.22-0.33  0.00-0.50   \n",
       "3  ARGENTINA - PRIMERA DIVISIÓN         0.33-0.44  0.00-0.50   \n",
       "4  ARGENTINA - PRIMERA DIVISIÓN         0.44-0.55  0.00-0.50   \n",
       "5  ARGENTINA - PRIMERA DIVISIÓN         0.55-0.66  0.00-0.50   \n",
       "6  ARGENTINA - PRIMERA DIVISIÓN         0.66-0.77  0.00-0.50   \n",
       "7  ARGENTINA - PRIMERA DIVISIÓN         0.77-0.88  0.00-0.50   \n",
       "8  ARGENTINA - PRIMERA DIVISIÓN         0.88-0.99  0.00-0.50   \n",
       "\n",
       "   Profit_LayAway_Sum  Count  \n",
       "0                0.00      0  \n",
       "1                1.60    145  \n",
       "2               -1.03    121  \n",
       "3                0.35      1  \n",
       "4                0.00      0  \n",
       "5                0.00      0  \n",
       "6                0.00      0  \n",
       "7                0.00      0  \n",
       "8                0.00      0  "
      ]
     },
     "metadata": {},
     "output_type": "display_data"
    }
   ],
   "source": [
    "display(df0[df0['League'] == 'ARGENTINA - PRIMERA DIVISIÓN'])"
   ]
  }
 ],
 "metadata": {
  "kernelspec": {
   "display_name": "Python 3",
   "language": "python",
   "name": "python3"
  },
  "language_info": {
   "codemirror_mode": {
    "name": "ipython",
    "version": 3
   },
   "file_extension": ".py",
   "mimetype": "text/x-python",
   "name": "python",
   "nbconvert_exporter": "python",
   "pygments_lexer": "ipython3",
   "version": "3.9.6"
  }
 },
 "nbformat": 4,
 "nbformat_minor": 2
}
